{
 "cells": [
  {
   "cell_type": "code",
   "execution_count": 18,
   "metadata": {
    "ExecuteTime": {
     "end_time": "2019-02-19T19:41:31.793751Z",
     "start_time": "2019-02-19T19:41:31.766398Z"
    }
   },
   "outputs": [],
   "source": [
    "import os\n",
    "import re\n",
    "import shutil\n",
    "import json\n",
    "\n",
    "import numpy as np\n",
    "import parmed as pmd\n",
    "\n",
    "from paprika import align\n",
    "from paprika import amber\n",
    "from paprika import analysis\n",
    "from paprika import io\n",
    "from paprika import log\n",
    "from paprika import restraints\n",
    "from paprika import tleap\n"
   ]
  },
  {
   "cell_type": "code",
   "execution_count": 19,
   "metadata": {},
   "outputs": [],
   "source": [
    "log.config_root_logger(verbose=True)"
   ]
  },
  {
   "cell_type": "markdown",
   "metadata": {},
   "source": [
    "# Specify directory for data\n",
    "\n",
    "In this case, we just need some initial coordinates. In other cases, we might need `mol2` or `frcmod` files."
   ]
  },
  {
   "cell_type": "code",
   "execution_count": 20,
   "metadata": {
    "ExecuteTime": {
     "end_time": "2019-02-19T19:39:41.142698Z",
     "start_time": "2019-02-19T19:39:41.138350Z"
    }
   },
   "outputs": [],
   "source": [
    "k_cl_pdb = os.path.abspath(os.path.join(\"data\", \"k-cl.pdb\"))"
   ]
  },
  {
   "cell_type": "markdown",
   "metadata": {},
   "source": [
    "# Setup the calcuation\n",
    "\n",
    "## Build the vacuum `prmtop` and `inpcrd` files"
   ]
  },
  {
   "cell_type": "code",
   "execution_count": 21,
   "metadata": {
    "ExecuteTime": {
     "end_time": "2019-02-19T19:41:54.354236Z",
     "start_time": "2019-02-19T19:41:54.168055Z"
    }
   },
   "outputs": [
    {
     "name": "stderr",
     "output_type": "stream",
     "text": [
      "2019-03-21 22:32:54,558: Running tleap.build() in k-cl\n"
     ]
    }
   ],
   "source": [
    "# Build the model in vacuum\n",
    "\n",
    "sys = tleap.System()\n",
    "sys.template_lines = [\n",
    "    \"source leaprc.water.tip3p\",\n",
    "    \"loadamberparams frcmod.ionsjc_tip3p\",\n",
    "    f\"model = loadpdb {k_cl_pdb}\",\n",
    "]\n",
    "\n",
    "sys.output_path = \"k-cl\"\n",
    "sys.output_prefix = \"k-cl\"\n",
    "sys.pbc_type = None\n",
    "sys.target_waters = None\n",
    "sys.neutralize = False\n",
    "sys.build()"
   ]
  },
  {
   "cell_type": "markdown",
   "metadata": {
    "ExecuteTime": {
     "end_time": "2019-02-19T19:35:41.478380Z",
     "start_time": "2019-02-19T19:35:41.142816Z"
    }
   },
   "source": [
    "## Specify the number of windows for the umbrella sampling\n",
    "\n",
    "These are overkill; I have been testing how much data we need to converge this calculation and how quickly we can run a stripped-down version on Travis."
   ]
  },
  {
   "cell_type": "code",
   "execution_count": 22,
   "metadata": {
    "ExecuteTime": {
     "end_time": "2019-02-19T19:42:01.825732Z",
     "start_time": "2019-02-19T19:42:01.815923Z"
    }
   },
   "outputs": [],
   "source": [
    "# Setup the windows\n",
    "\n",
    "attach_fractions = np.linspace(0, 1.0, 5)\n",
    "initial_distance = 2.65\n",
    "pull_distances = np.linspace(0 + initial_distance, 16.0 + initial_distance, 10)"
   ]
  },
  {
   "cell_type": "markdown",
   "metadata": {},
   "source": [
    "## Add a single distance restraint between K+ and Cl-"
   ]
  },
  {
   "cell_type": "code",
   "execution_count": 23,
   "metadata": {
    "ExecuteTime": {
     "end_time": "2019-02-19T19:42:02.333845Z",
     "start_time": "2019-02-19T19:42:02.317742Z"
    }
   },
   "outputs": [
    {
     "name": "stderr",
     "output_type": "stream",
     "text": [
      "2019-03-21 22:32:54,866: Calculating attach targets and force constants...\n",
      "2019-03-21 22:32:54,868: Attach, Method #3\n",
      "2019-03-21 22:32:54,869: Calculating pull targets and force constants...\n",
      "2019-03-21 22:32:54,870: Pull, Method #5\n",
      "2019-03-21 22:32:54,871: Calculating release targets and force constants...\n",
      "2019-03-21 22:32:54,872: No restraint info set for the release phase! Skipping...\n",
      "2019-03-21 22:32:54,873: Number of attach windows = 5\n",
      "2019-03-21 22:32:54,875: Number of pull windows = 10\n",
      "2019-03-21 22:32:54,876: This restraint will be skipped in the release phase\n",
      "2019-03-21 22:32:54,880: Assigning atom indices...\n",
      "2019-03-21 22:32:54,886: Loaded /Users/dslochower/Documents/projects/paprika-kcl/data/k-cl.pdb...\n",
      "2019-03-21 22:32:54,886: Loaded /Users/dslochower/Documents/projects/paprika-kcl/data/k-cl.pdb...\n",
      "2019-03-21 22:32:54,886: Loaded /Users/dslochower/Documents/projects/paprika-kcl/data/k-cl.pdb...\n",
      "2019-03-21 22:32:54,890: There are 1 atoms in the mask @K+  ...\n",
      "2019-03-21 22:32:54,895: Loaded /Users/dslochower/Documents/projects/paprika-kcl/data/k-cl.pdb...\n",
      "2019-03-21 22:32:54,895: Loaded /Users/dslochower/Documents/projects/paprika-kcl/data/k-cl.pdb...\n",
      "2019-03-21 22:32:54,895: Loaded /Users/dslochower/Documents/projects/paprika-kcl/data/k-cl.pdb...\n",
      "2019-03-21 22:32:54,899: There are 1 atoms in the mask @Cl-  ...\n"
     ]
    }
   ],
   "source": [
    "# Setup the single distance restraint\n",
    "\n",
    "restraint = restraints.DAT_restraint()\n",
    "restraint.continuous_apr = True\n",
    "restraint.amber_index = True\n",
    "restraint.topology = k_cl_pdb\n",
    "restraint.mask1 = \"@K+\"\n",
    "restraint.mask2 = \"@Cl-\"\n",
    "\n",
    "restraint.attach[\"target\"] = initial_distance\n",
    "restraint.attach[\"fraction_list\"] = attach_fractions\n",
    "restraint.attach[\"fc_final\"] = 5.0\n",
    "restraint.pull[\"fc\"] = restraint.attach[\"fc_final\"]\n",
    "restraint.pull[\"target_list\"] = pull_distances\n",
    "restraint.initialize()"
   ]
  },
  {
   "cell_type": "markdown",
   "metadata": {},
   "source": [
    "## Optionally, add a \"wall restraint\" to define the bound state and speed convergence\n",
    "\n",
    "This will apply a harmonic potential that keeps the \"guest\" Cl- within 3.5 Angstroms."
   ]
  },
  {
   "cell_type": "code",
   "execution_count": 24,
   "metadata": {
    "ExecuteTime": {
     "end_time": "2019-02-19T19:42:03.287625Z",
     "start_time": "2019-02-19T19:42:03.240205Z"
    }
   },
   "outputs": [
    {
     "name": "stderr",
     "output_type": "stream",
     "text": [
      "2019-03-21 22:32:54,917: Calculating attach targets and force constants...\n",
      "2019-03-21 22:32:54,919: Attach, Method #1\n",
      "2019-03-21 22:32:54,921: Calculating pull targets and force constants...\n",
      "2019-03-21 22:32:54,922: No restraint info set for the pull phase! Skipping...\n",
      "2019-03-21 22:32:54,923: Calculating release targets and force constants...\n",
      "2019-03-21 22:32:54,925: No restraint info set for the release phase! Skipping...\n",
      "2019-03-21 22:32:54,926: Number of attach windows = 5\n",
      "2019-03-21 22:32:54,927: This restraint will be skipped in the pull phase\n",
      "2019-03-21 22:32:54,930: This restraint will be skipped in the release phase\n",
      "2019-03-21 22:32:54,932: Assigning atom indices...\n",
      "2019-03-21 22:32:54,935: Loaded /Users/dslochower/Documents/projects/paprika-kcl/data/k-cl.pdb...\n",
      "2019-03-21 22:32:54,935: Loaded /Users/dslochower/Documents/projects/paprika-kcl/data/k-cl.pdb...\n",
      "2019-03-21 22:32:54,935: Loaded /Users/dslochower/Documents/projects/paprika-kcl/data/k-cl.pdb...\n",
      "2019-03-21 22:32:54,938: There are 1 atoms in the mask @K+  ...\n",
      "2019-03-21 22:32:54,942: Loaded /Users/dslochower/Documents/projects/paprika-kcl/data/k-cl.pdb...\n",
      "2019-03-21 22:32:54,942: Loaded /Users/dslochower/Documents/projects/paprika-kcl/data/k-cl.pdb...\n",
      "2019-03-21 22:32:54,942: Loaded /Users/dslochower/Documents/projects/paprika-kcl/data/k-cl.pdb...\n",
      "2019-03-21 22:32:54,947: There are 1 atoms in the mask @Cl-  ...\n"
     ]
    }
   ],
   "source": [
    "# Add wall restraint during attachment\n",
    "\n",
    "wall = restraints.DAT_restraint()\n",
    "wall.auto_apr = False\n",
    "wall.amber_index = True\n",
    "wall.topology = k_cl_pdb\n",
    "wall.mask1 = \"@K+\"\n",
    "wall.mask2 = \"@Cl-\"\n",
    "\n",
    "wall.attach[\"fc_initial\"] = 1.0\n",
    "wall.attach[\"fc_final\"] = 1.0\n",
    "\n",
    "wall.custom_restraint_values[\"rk2\"] = 1.0\n",
    "wall.custom_restraint_values[\"rk3\"] = 1.0\n",
    "wall.custom_restraint_values[\"r1\"] = 0.0\n",
    "wall.custom_restraint_values[\"r2\"] = 3.5\n",
    "wall.custom_restraint_values[\"r3\"] = 3.5\n",
    "wall.custom_restraint_values[\"r4\"] = 999\n",
    "\n",
    "wall.attach[\"target\"] = 3.5\n",
    "wall.attach[\"num_windows\"] = len(attach_fractions)\n",
    "\n",
    "wall.initialize()"
   ]
  },
  {
   "cell_type": "markdown",
   "metadata": {},
   "source": [
    "## Create the directories for each window and write the AMBER-style restraint input file\n",
    "\n",
    "This makes it easy to run each window in parallel as a separate simulation."
   ]
  },
  {
   "cell_type": "code",
   "execution_count": 25,
   "metadata": {},
   "outputs": [],
   "source": [
    "windows_directory = os.path.join(\"k-cl\", \"windows\")"
   ]
  },
  {
   "cell_type": "code",
   "execution_count": 26,
   "metadata": {
    "ExecuteTime": {
     "end_time": "2019-02-19T19:42:04.734063Z",
     "start_time": "2019-02-19T19:42:04.382757Z"
    }
   },
   "outputs": [
    {
     "name": "stderr",
     "output_type": "stream",
     "text": [
      "2019-03-21 22:32:54,971: All restraints are \"continuous_apr\" style.\n",
      "2019-03-21 22:32:54,975: Restraints appear to be consistent\n",
      "2019-03-21 22:32:54,975: Restraints appear to be consistent\n",
      "2019-03-21 22:32:54,975: Restraints appear to be consistent\n"
     ]
    }
   ],
   "source": [
    "# Create the windows\n",
    "window_list = restraints.create_window_list([restraint])\n",
    "for window in window_list:\n",
    "    if os.path.exists(os.path.join(windows_directory, window)):\n",
    "        continue\n",
    "    else:\n",
    "        os.makedirs(os.path.join(windows_directory, window))"
   ]
  },
  {
   "cell_type": "code",
   "execution_count": 27,
   "metadata": {
    "ExecuteTime": {
     "end_time": "2019-02-19T19:42:04.734063Z",
     "start_time": "2019-02-19T19:42:04.382757Z"
    }
   },
   "outputs": [
    {
     "name": "stderr",
     "output_type": "stream",
     "text": [
      "2019-03-21 22:32:55,001: Overriding rk2 = 1.0\n",
      "2019-03-21 22:32:55,003: Overriding rk3 = 1.0\n",
      "2019-03-21 22:32:55,006: Overriding r1 = 0.0\n",
      "2019-03-21 22:32:55,007: Overriding r2 = 3.5\n",
      "2019-03-21 22:32:55,009: Overriding r3 = 3.5\n",
      "2019-03-21 22:32:55,016: Overriding r4 = 999\n",
      "2019-03-21 22:32:55,021: Overriding rk2 = 1.0\n",
      "2019-03-21 22:32:55,023: Overriding rk3 = 1.0\n",
      "2019-03-21 22:32:55,025: Overriding r1 = 0.0\n",
      "2019-03-21 22:32:55,027: Overriding r2 = 3.5\n",
      "2019-03-21 22:32:55,028: Overriding r3 = 3.5\n",
      "2019-03-21 22:32:55,034: Overriding r4 = 999\n",
      "2019-03-21 22:32:55,037: Overriding rk2 = 1.0\n",
      "2019-03-21 22:32:55,039: Overriding rk3 = 1.0\n",
      "2019-03-21 22:32:55,041: Overriding r1 = 0.0\n",
      "2019-03-21 22:32:55,043: Overriding r2 = 3.5\n",
      "2019-03-21 22:32:55,044: Overriding r3 = 3.5\n",
      "2019-03-21 22:32:55,050: Overriding r4 = 999\n",
      "2019-03-21 22:32:55,051: Overriding rk2 = 1.0\n",
      "2019-03-21 22:32:55,054: Overriding rk3 = 1.0\n",
      "2019-03-21 22:32:55,055: Overriding r1 = 0.0\n",
      "2019-03-21 22:32:55,057: Overriding r2 = 3.5\n",
      "2019-03-21 22:32:55,058: Overriding r3 = 3.5\n",
      "2019-03-21 22:32:55,059: Overriding r4 = 999\n"
     ]
    }
   ],
   "source": [
    "for window in window_list:\n",
    "    with open(os.path.join(windows_directory, window, \"disang.rest\"), \"a\") as file:\n",
    "        if window[0] == \"a\":\n",
    "            for r in [restraint, wall]:\n",
    "                string = restraints.amber_restraint_line(r, window)\n",
    "                if string is not None:\n",
    "                    file.write(string)\n",
    "        else:\n",
    "            string = restraints.amber_restraint_line(restraint, window)\n",
    "            file.write(string)"
   ]
  },
  {
   "cell_type": "code",
   "execution_count": 28,
   "metadata": {
    "ExecuteTime": {
     "end_time": "2019-02-19T19:42:04.734063Z",
     "start_time": "2019-02-19T19:42:04.382757Z"
    }
   },
   "outputs": [
    {
     "name": "stdout",
     "output_type": "stream",
     "text": [
      "In window p000 we will translate the guest 0.0 Angstroms.\n",
      "In window p001 we will translate the guest 1.8 Angstroms.\n",
      "In window p002 we will translate the guest 3.6 Angstroms.\n",
      "In window p003 we will translate the guest 5.3 Angstroms.\n",
      "In window p004 we will translate the guest 7.1 Angstroms.\n",
      "In window p005 we will translate the guest 8.9 Angstroms.\n",
      "In window p006 we will translate the guest 10.7 Angstroms.\n",
      "In window p007 we will translate the guest 12.4 Angstroms.\n",
      "In window p008 we will translate the guest 14.2 Angstroms.\n",
      "In window p009 we will translate the guest 16.0 Angstroms.\n"
     ]
    }
   ],
   "source": [
    "for window in window_list:\n",
    "    if window[0] == \"a\":\n",
    "        structure = pmd.load_file(os.path.join(\"k-cl\", \"k-cl.prmtop\"), \n",
    "                                  os.path.join(\"k-cl\", \"k-cl.rst7\"), structure=True)\n",
    "        for atom in structure.atoms:\n",
    "            if atom.name == \"Cl-\":\n",
    "                atom.xz = 2.65\n",
    "        structure.save(os.path.join(windows_directory, window, \"k-cl.prmtop\"), overwrite=True)\n",
    "        structure.save(os.path.join(windows_directory, window, \"k-cl.rst7\"), overwrite=True)\n",
    "\n",
    "    elif window[0] == \"p\":\n",
    "        structure = pmd.load_file(os.path.join(\"k-cl\", \"k-cl.prmtop\"), \n",
    "                                  os.path.join(\"k-cl\", \"k-cl.rst7\"), structure=True)\n",
    "        target_difference = (\n",
    "            restraint.phase[\"pull\"][\"targets\"][int(window[1:])]\n",
    "            - restraint.phase[\"pull\"][\"targets\"][0]\n",
    "        )\n",
    "        print(\n",
    "            f\"In window {window} we will translate the guest {target_difference:0.1f} Angstroms.\"\n",
    "        )\n",
    "        for atom in structure.atoms:\n",
    "            if atom.name == \"Cl-\":\n",
    "                atom.xz += target_difference\n",
    "        structure.save(os.path.join(windows_directory, window, \"k-cl.prmtop\"), overwrite=True)\n",
    "        structure.save(os.path.join(windows_directory, window, \"k-cl.rst7\"), overwrite=True)\n"
   ]
  },
  {
   "cell_type": "code",
   "execution_count": 29,
   "metadata": {},
   "outputs": [],
   "source": [
    "#    if not os.path.exists(f\"tmp/windows/{window}/k-cl.pdb\"):\n",
    "#        structure.save(f\"tmp/windows/{window}/k-cl.pdb\")\n"
   ]
  },
  {
   "cell_type": "markdown",
   "metadata": {},
   "source": [
    "## Optionally, tweak some parameters, like changing the charge of K+ to 1.3 and Cl- to -1.3"
   ]
  },
  {
   "cell_type": "code",
   "execution_count": 30,
   "metadata": {
    "ExecuteTime": {
     "end_time": "2019-02-19T19:42:35.566455Z",
     "start_time": "2019-02-19T19:42:35.251649Z"
    }
   },
   "outputs": [],
   "source": [
    "# Adjust K/Cl charge from +/- 1.0 to +/- 1.3\n",
    "\n",
    "for window in window_list:\n",
    "    structure = pmd.load_file(\n",
    "        os.path.join(windows_directory, window, \"k-cl.prmtop\"),\n",
    "        os.path.join(windows_directory, window, \"k-cl.rst7\"),\n",
    "        structure=True,\n",
    "    )\n",
    "    for atom in structure.atoms:\n",
    "        if atom.name == \"Cl-\":\n",
    "            atom.charge = -1.3\n",
    "        elif atom.name == \"K+\":\n",
    "            atom.charge = 1.3\n",
    "    structure.save(os.path.join(windows_directory, window, \"k-cl.prmtop\"), overwrite=True)\n",
    "    structure.save(os.path.join(windows_directory, window, \"k-cl.rst7\"), overwrite=True)"
   ]
  },
  {
   "cell_type": "markdown",
   "metadata": {},
   "source": [
    "## Solvate the structure in each window to the same number of waters"
   ]
  },
  {
   "cell_type": "code",
   "execution_count": 31,
   "metadata": {
    "ExecuteTime": {
     "end_time": "2019-02-19T19:46:31.525642Z",
     "start_time": "2019-02-19T19:43:05.990956Z"
    }
   },
   "outputs": [
    {
     "name": "stdout",
     "output_type": "stream",
     "text": [
      "Solvating window a000...\n",
      "Skipping...\n",
      "Solvating window a001...\n",
      "Skipping...\n",
      "Solvating window a002...\n",
      "Skipping...\n",
      "Solvating window a003...\n",
      "Skipping...\n",
      "Solvating window p000...\n",
      "Skipping...\n",
      "Solvating window p001...\n",
      "Skipping...\n",
      "Solvating window p002...\n",
      "Skipping...\n",
      "Solvating window p003...\n",
      "Skipping...\n",
      "Solvating window p004...\n",
      "Skipping...\n",
      "Solvating window p005...\n",
      "Skipping...\n",
      "Solvating window p006...\n",
      "Skipping...\n",
      "Solvating window p007...\n",
      "Skipping...\n",
      "Solvating window p008...\n",
      "Skipping...\n",
      "Solvating window p009...\n",
      "Skipping...\n"
     ]
    }
   ],
   "source": [
    "# Solvate in each window...\n",
    "\n",
    "for window in window_list:\n",
    "    print(f\"Solvating window {window}...\")\n",
    "\n",
    "    if os.path.exists(os.path.join(windows_directory, window, \"k-cl-sol.prmtop\")):\n",
    "        print(\"Skipping...\")\n",
    "        continue\n",
    "\n",
    "\n",
    "    structure = pmd.load_file(\n",
    "        os.path.join(windows_directory, window, \"k-cl.prmtop\"),\n",
    "        os.path.join(windows_directory, window, \"k-cl.rst7\"),\n",
    "        structure=True,\n",
    "    )\n",
    "    \n",
    "    if not os.path.exists(os.path.join(windows_directory, window, \"k-cl.pdb\")):\n",
    "        structure.save(os.path.join(windows_directory, window, \"k-cl.pdb\"))\n",
    "\n",
    "    system = tleap.System()\n",
    "    system.output_path = os.path.join(windows_directory, window)\n",
    "    system.output_prefix = \"k-cl-sol\"\n",
    "\n",
    "    system.target_waters = 2000\n",
    "    system.neutralize = False\n",
    "    system.template_lines = [\"source leaprc.water.tip3p\", \"model = loadpdb k-cl.pdb\"]\n",
    "    system.build()"
   ]
  },
  {
   "cell_type": "markdown",
   "metadata": {},
   "source": [
    "# Run the calculation\n",
    "\n",
    "## Minimize, thermalize, equilibrate, and run production simulations\n",
    "\n",
    "We have a few helper functions -- like `_config_pbc_min()` and `_config_pbc_md()` -- that help setup some smart defaults for AMBER. (I'll make a note to work on adding this for the OpenMM side of things.) The simulations can either be run directly, as indicated below, with `simulation.run()` or the input file can be written using `_amber_write_input_file()` and then wrapped using a cluster script (like PBS or whatever)."
   ]
  },
  {
   "cell_type": "code",
   "execution_count": 36,
   "metadata": {
    "ExecuteTime": {
     "start_time": "2019-02-19T19:47:47.281Z"
    }
   },
   "outputs": [
    {
     "name": "stderr",
     "output_type": "stream",
     "text": [
      "2019-03-21 22:33:32,087: Writing production.in\n",
      "2019-03-21 22:33:32,092: Running MD at k-cl/windows/a000\n",
      "2019-03-21 22:33:32,092: Running MD at k-cl/windows/a000\n",
      "2019-03-21 22:33:32,092: Running MD at k-cl/windows/a000\n",
      "2019-03-21 22:33:32,108: Exec line: sander -O -p k-cl-sol.prmtop -ref k-cl-sol.rst7 -c k-cl-sol.rst7 -i production.in -o production.out -r production.rst7 -x production.nc -inf production.mdinfo -e production.mden\n"
     ]
    },
    {
     "name": "stdout",
     "output_type": "stream",
     "text": [
      "Running production in window a000...\n"
     ]
    },
    {
     "name": "stderr",
     "output_type": "stream",
     "text": [
      "2019-03-21 22:33:37,964: k-cl/windows/a000/production.out has TIMINGS\n",
      "2019-03-21 22:33:37,966: MD completed ...\n",
      "2019-03-21 22:33:37,966: MD completed ...\n",
      "2019-03-21 22:33:37,966: MD completed ...\n",
      "2019-03-21 22:33:37,972: Writing production.in\n",
      "2019-03-21 22:33:37,975: Running MD at k-cl/windows/a001\n",
      "2019-03-21 22:33:37,975: Running MD at k-cl/windows/a001\n",
      "2019-03-21 22:33:37,975: Running MD at k-cl/windows/a001\n",
      "2019-03-21 22:33:37,980: Exec line: sander -O -p k-cl-sol.prmtop -ref k-cl-sol.rst7 -c k-cl-sol.rst7 -i production.in -o production.out -r production.rst7 -x production.nc -inf production.mdinfo -e production.mden\n"
     ]
    },
    {
     "name": "stdout",
     "output_type": "stream",
     "text": [
      "Running production in window a001...\n"
     ]
    },
    {
     "name": "stderr",
     "output_type": "stream",
     "text": [
      "2019-03-21 22:33:46,582: k-cl/windows/a001/production.out has TIMINGS\n",
      "2019-03-21 22:33:46,583: MD completed ...\n",
      "2019-03-21 22:33:46,583: MD completed ...\n",
      "2019-03-21 22:33:46,583: MD completed ...\n",
      "2019-03-21 22:33:46,587: Writing production.in\n",
      "2019-03-21 22:33:46,593: Running MD at k-cl/windows/a002\n",
      "2019-03-21 22:33:46,593: Running MD at k-cl/windows/a002\n",
      "2019-03-21 22:33:46,593: Running MD at k-cl/windows/a002\n",
      "2019-03-21 22:33:46,598: Exec line: sander -O -p k-cl-sol.prmtop -ref k-cl-sol.rst7 -c k-cl-sol.rst7 -i production.in -o production.out -r production.rst7 -x production.nc -inf production.mdinfo -e production.mden\n"
     ]
    },
    {
     "name": "stdout",
     "output_type": "stream",
     "text": [
      "Running production in window a002...\n"
     ]
    },
    {
     "name": "stderr",
     "output_type": "stream",
     "text": [
      "2019-03-21 22:34:04,215: k-cl/windows/a002/production.out has TIMINGS\n",
      "2019-03-21 22:34:04,218: MD completed ...\n",
      "2019-03-21 22:34:04,218: MD completed ...\n",
      "2019-03-21 22:34:04,218: MD completed ...\n",
      "2019-03-21 22:34:04,223: Writing production.in\n",
      "2019-03-21 22:34:04,227: Running MD at k-cl/windows/a003\n",
      "2019-03-21 22:34:04,227: Running MD at k-cl/windows/a003\n",
      "2019-03-21 22:34:04,227: Running MD at k-cl/windows/a003\n",
      "2019-03-21 22:34:04,231: Exec line: sander -O -p k-cl-sol.prmtop -ref k-cl-sol.rst7 -c k-cl-sol.rst7 -i production.in -o production.out -r production.rst7 -x production.nc -inf production.mdinfo -e production.mden\n"
     ]
    },
    {
     "name": "stdout",
     "output_type": "stream",
     "text": [
      "Running production in window a003...\n"
     ]
    },
    {
     "name": "stderr",
     "output_type": "stream",
     "text": [
      "2019-03-21 22:34:14,931: k-cl/windows/a003/production.out has TIMINGS\n",
      "2019-03-21 22:34:14,932: MD completed ...\n",
      "2019-03-21 22:34:14,932: MD completed ...\n",
      "2019-03-21 22:34:14,932: MD completed ...\n",
      "2019-03-21 22:34:14,937: Writing production.in\n",
      "2019-03-21 22:34:14,941: Running MD at k-cl/windows/p000\n",
      "2019-03-21 22:34:14,941: Running MD at k-cl/windows/p000\n",
      "2019-03-21 22:34:14,941: Running MD at k-cl/windows/p000\n",
      "2019-03-21 22:34:14,946: Exec line: sander -O -p k-cl-sol.prmtop -ref k-cl-sol.rst7 -c k-cl-sol.rst7 -i production.in -o production.out -r production.rst7 -x production.nc -inf production.mdinfo -e production.mden\n"
     ]
    },
    {
     "name": "stdout",
     "output_type": "stream",
     "text": [
      "Running production in window p000...\n"
     ]
    },
    {
     "name": "stderr",
     "output_type": "stream",
     "text": [
      "2019-03-21 22:34:25,016: k-cl/windows/p000/production.out has TIMINGS\n",
      "2019-03-21 22:34:25,017: MD completed ...\n",
      "2019-03-21 22:34:25,017: MD completed ...\n",
      "2019-03-21 22:34:25,017: MD completed ...\n",
      "2019-03-21 22:34:25,022: Writing production.in\n",
      "2019-03-21 22:34:25,025: Running MD at k-cl/windows/p001\n",
      "2019-03-21 22:34:25,025: Running MD at k-cl/windows/p001\n",
      "2019-03-21 22:34:25,025: Running MD at k-cl/windows/p001\n",
      "2019-03-21 22:34:25,030: Exec line: sander -O -p k-cl-sol.prmtop -ref k-cl-sol.rst7 -c k-cl-sol.rst7 -i production.in -o production.out -r production.rst7 -x production.nc -inf production.mdinfo -e production.mden\n"
     ]
    },
    {
     "name": "stdout",
     "output_type": "stream",
     "text": [
      "Running production in window p001...\n"
     ]
    },
    {
     "name": "stderr",
     "output_type": "stream",
     "text": [
      "2019-03-21 22:34:35,049: k-cl/windows/p001/production.out has TIMINGS\n",
      "2019-03-21 22:34:35,051: MD completed ...\n",
      "2019-03-21 22:34:35,051: MD completed ...\n",
      "2019-03-21 22:34:35,051: MD completed ...\n",
      "2019-03-21 22:34:35,056: Writing production.in\n",
      "2019-03-21 22:34:35,060: Running MD at k-cl/windows/p002\n",
      "2019-03-21 22:34:35,060: Running MD at k-cl/windows/p002\n",
      "2019-03-21 22:34:35,060: Running MD at k-cl/windows/p002\n",
      "2019-03-21 22:34:35,071: Exec line: sander -O -p k-cl-sol.prmtop -ref k-cl-sol.rst7 -c k-cl-sol.rst7 -i production.in -o production.out -r production.rst7 -x production.nc -inf production.mdinfo -e production.mden\n"
     ]
    },
    {
     "name": "stdout",
     "output_type": "stream",
     "text": [
      "Running production in window p002...\n"
     ]
    },
    {
     "name": "stderr",
     "output_type": "stream",
     "text": [
      "2019-03-21 22:34:46,613: k-cl/windows/p002/production.out has TIMINGS\n",
      "2019-03-21 22:34:46,615: MD completed ...\n",
      "2019-03-21 22:34:46,615: MD completed ...\n",
      "2019-03-21 22:34:46,615: MD completed ...\n",
      "2019-03-21 22:34:46,619: Writing production.in\n",
      "2019-03-21 22:34:46,624: Running MD at k-cl/windows/p003\n",
      "2019-03-21 22:34:46,624: Running MD at k-cl/windows/p003\n",
      "2019-03-21 22:34:46,624: Running MD at k-cl/windows/p003\n",
      "2019-03-21 22:34:46,631: Exec line: sander -O -p k-cl-sol.prmtop -ref k-cl-sol.rst7 -c k-cl-sol.rst7 -i production.in -o production.out -r production.rst7 -x production.nc -inf production.mdinfo -e production.mden\n"
     ]
    },
    {
     "name": "stdout",
     "output_type": "stream",
     "text": [
      "Running production in window p003...\n"
     ]
    },
    {
     "name": "stderr",
     "output_type": "stream",
     "text": [
      "2019-03-21 22:34:54,517: k-cl/windows/p003/production.out has TIMINGS\n",
      "2019-03-21 22:34:54,518: MD completed ...\n",
      "2019-03-21 22:34:54,518: MD completed ...\n",
      "2019-03-21 22:34:54,518: MD completed ...\n",
      "2019-03-21 22:34:54,526: Writing production.in\n",
      "2019-03-21 22:34:54,528: Running MD at k-cl/windows/p004\n",
      "2019-03-21 22:34:54,528: Running MD at k-cl/windows/p004\n",
      "2019-03-21 22:34:54,528: Running MD at k-cl/windows/p004\n",
      "2019-03-21 22:34:54,531: Exec line: sander -O -p k-cl-sol.prmtop -ref k-cl-sol.rst7 -c k-cl-sol.rst7 -i production.in -o production.out -r production.rst7 -x production.nc -inf production.mdinfo -e production.mden\n"
     ]
    },
    {
     "name": "stdout",
     "output_type": "stream",
     "text": [
      "Running production in window p004...\n"
     ]
    },
    {
     "name": "stderr",
     "output_type": "stream",
     "text": [
      "2019-03-21 22:35:02,187: k-cl/windows/p004/production.out has TIMINGS\n",
      "2019-03-21 22:35:02,188: MD completed ...\n",
      "2019-03-21 22:35:02,188: MD completed ...\n",
      "2019-03-21 22:35:02,188: MD completed ...\n",
      "2019-03-21 22:35:02,195: Writing production.in\n",
      "2019-03-21 22:35:02,198: Running MD at k-cl/windows/p005\n",
      "2019-03-21 22:35:02,198: Running MD at k-cl/windows/p005\n",
      "2019-03-21 22:35:02,198: Running MD at k-cl/windows/p005\n",
      "2019-03-21 22:35:02,209: Exec line: sander -O -p k-cl-sol.prmtop -ref k-cl-sol.rst7 -c k-cl-sol.rst7 -i production.in -o production.out -r production.rst7 -x production.nc -inf production.mdinfo -e production.mden\n"
     ]
    },
    {
     "name": "stdout",
     "output_type": "stream",
     "text": [
      "Running production in window p005...\n"
     ]
    },
    {
     "name": "stderr",
     "output_type": "stream",
     "text": [
      "2019-03-21 22:35:08,483: k-cl/windows/p005/production.out has TIMINGS\n",
      "2019-03-21 22:35:08,486: MD completed ...\n",
      "2019-03-21 22:35:08,486: MD completed ...\n",
      "2019-03-21 22:35:08,486: MD completed ...\n",
      "2019-03-21 22:35:08,490: Writing production.in\n",
      "2019-03-21 22:35:08,496: Running MD at k-cl/windows/p006\n",
      "2019-03-21 22:35:08,496: Running MD at k-cl/windows/p006\n",
      "2019-03-21 22:35:08,496: Running MD at k-cl/windows/p006\n",
      "2019-03-21 22:35:08,509: Exec line: sander -O -p k-cl-sol.prmtop -ref k-cl-sol.rst7 -c k-cl-sol.rst7 -i production.in -o production.out -r production.rst7 -x production.nc -inf production.mdinfo -e production.mden\n"
     ]
    },
    {
     "name": "stdout",
     "output_type": "stream",
     "text": [
      "Running production in window p006...\n"
     ]
    },
    {
     "name": "stderr",
     "output_type": "stream",
     "text": [
      "2019-03-21 22:35:14,312: k-cl/windows/p006/production.out has TIMINGS\n",
      "2019-03-21 22:35:14,314: MD completed ...\n",
      "2019-03-21 22:35:14,314: MD completed ...\n",
      "2019-03-21 22:35:14,314: MD completed ...\n",
      "2019-03-21 22:35:14,324: Writing production.in\n",
      "2019-03-21 22:35:14,327: Running MD at k-cl/windows/p007\n",
      "2019-03-21 22:35:14,327: Running MD at k-cl/windows/p007\n",
      "2019-03-21 22:35:14,327: Running MD at k-cl/windows/p007\n",
      "2019-03-21 22:35:14,330: Exec line: sander -O -p k-cl-sol.prmtop -ref k-cl-sol.rst7 -c k-cl-sol.rst7 -i production.in -o production.out -r production.rst7 -x production.nc -inf production.mdinfo -e production.mden\n"
     ]
    },
    {
     "name": "stdout",
     "output_type": "stream",
     "text": [
      "Running production in window p007...\n"
     ]
    },
    {
     "name": "stderr",
     "output_type": "stream",
     "text": [
      "2019-03-21 22:35:19,996: k-cl/windows/p007/production.out has TIMINGS\n",
      "2019-03-21 22:35:19,998: MD completed ...\n",
      "2019-03-21 22:35:19,998: MD completed ...\n",
      "2019-03-21 22:35:19,998: MD completed ...\n",
      "2019-03-21 22:35:20,003: Writing production.in\n",
      "2019-03-21 22:35:20,007: Running MD at k-cl/windows/p008\n",
      "2019-03-21 22:35:20,007: Running MD at k-cl/windows/p008\n",
      "2019-03-21 22:35:20,007: Running MD at k-cl/windows/p008\n",
      "2019-03-21 22:35:20,011: Exec line: sander -O -p k-cl-sol.prmtop -ref k-cl-sol.rst7 -c k-cl-sol.rst7 -i production.in -o production.out -r production.rst7 -x production.nc -inf production.mdinfo -e production.mden\n"
     ]
    },
    {
     "name": "stdout",
     "output_type": "stream",
     "text": [
      "Running production in window p008...\n"
     ]
    },
    {
     "name": "stderr",
     "output_type": "stream",
     "text": [
      "2019-03-21 22:35:25,051: k-cl/windows/p008/production.out has TIMINGS\n",
      "2019-03-21 22:35:25,054: MD completed ...\n",
      "2019-03-21 22:35:25,054: MD completed ...\n",
      "2019-03-21 22:35:25,054: MD completed ...\n",
      "2019-03-21 22:35:25,058: Writing production.in\n",
      "2019-03-21 22:35:25,070: Running MD at k-cl/windows/p009\n",
      "2019-03-21 22:35:25,070: Running MD at k-cl/windows/p009\n",
      "2019-03-21 22:35:25,070: Running MD at k-cl/windows/p009\n",
      "2019-03-21 22:35:25,074: Exec line: sander -O -p k-cl-sol.prmtop -ref k-cl-sol.rst7 -c k-cl-sol.rst7 -i production.in -o production.out -r production.rst7 -x production.nc -inf production.mdinfo -e production.mden\n"
     ]
    },
    {
     "name": "stdout",
     "output_type": "stream",
     "text": [
      "Running production in window p009...\n"
     ]
    },
    {
     "name": "stderr",
     "output_type": "stream",
     "text": [
      "2019-03-21 22:35:35,513: k-cl/windows/p009/production.out has TIMINGS\n",
      "2019-03-21 22:35:35,514: MD completed ...\n",
      "2019-03-21 22:35:35,514: MD completed ...\n",
      "2019-03-21 22:35:35,514: MD completed ...\n"
     ]
    }
   ],
   "source": [
    "# Minimize\n",
    "\n",
    "# for window in window_list:\n",
    "#     simulation = amber.Simulation()\n",
    "#     simulation.executable = \"sander\"\n",
    "\n",
    "#     simulation.path = os.path.join(windows_directory, window)\n",
    "#     simulation.prefix = \"minimize\"\n",
    "\n",
    "#     simulation.inpcrd = \"k-cl-sol.rst7\"\n",
    "#     simulation.ref = \"k-cl-sol.rst7\"\n",
    "#     simulation.topology = \"k-cl-sol.prmtop\"\n",
    "#     simulation.restraint_file = \"disang.rest\"\n",
    "\n",
    "#     simulation.config_pbc_min()\n",
    "#     simulation.cntrl[\"ntr\"] = 1\n",
    "#     simulation.cntrl[\"restraint_wt\"] = 50.0\n",
    "#     simulation.cntrl[\"restraintmask\"] = \"':1-2'\"\n",
    "#     print(f\"Running minimization in window {window}...\")\n",
    "#     simulation.run()\n",
    "\n",
    "# Simulate\n",
    "\n",
    "for window in window_list:\n",
    "    simulation = amber.Simulation()\n",
    "    simulation.executable = \"sander\"\n",
    "\n",
    "    simulation.path = os.path.join(windows_directory, window)\n",
    "    simulation.prefix = \"production\"\n",
    "\n",
    "    # simulation.inpcrd = \"minimize.rst7\"\n",
    "    simulation.inpcrd = \"k-cl-sol.rst7\"\n",
    "    simulation.ref = \"k-cl-sol.rst7\"\n",
    "    simulation.topology = \"k-cl-sol.prmtop\"\n",
    "    simulation.restraint_file = \"disang.rest\"\n",
    "\n",
    "    simulation.config_pbc_md()\n",
    "    simulation.cntrl[\"nstlim\"] = 100\n",
    "    simulation.cntrl[\"ntwx\"] = 1\n",
    "\n",
    "    print(f\"Running production in window {window}...\")\n",
    "    simulation.run(overwrite=True)\n",
    " "
   ]
  },
  {
   "cell_type": "markdown",
   "metadata": {},
   "source": [
    "# Analyze the simulation"
   ]
  },
  {
   "cell_type": "markdown",
   "metadata": {},
   "source": [
    "## Setup the analysis\n",
    "\n",
    "The analysis needs to know about:\n",
    "\n",
    "- The parameter file that was used for the molecules,\n",
    "- The simulation path,\n",
    "- The trajectories, and\n",
    "- The method to do the analysis (e.g., TI for the free energy with blocking analysis for the SEM)"
   ]
  },
  {
   "cell_type": "code",
   "execution_count": 37,
   "metadata": {
    "ExecuteTime": {
     "start_time": "2019-02-19T19:50:14.029Z"
    }
   },
   "outputs": [
    {
     "name": "stderr",
     "output_type": "stream",
     "text": [
      "2019-03-21 22:35:37,095: Replacing k-cl/windows/a004 with k-cl/windows/p000 in ['k-cl/windows/a000', 'k-cl/windows/a001', 'k-cl/windows/a002', 'k-cl/windows/a003', 'k-cl/windows/a004'] for `continuous_apr`...\n",
      "2019-03-21 22:35:37,097: Load trajectories from k-cl/windows/a000...\n",
      "2019-03-21 22:35:37,175: Loaded 100 frames...\n",
      "2019-03-21 22:35:37,212: Load trajectories from k-cl/windows/a001...\n",
      "2019-03-21 22:35:37,263: Loaded 100 frames...\n",
      "2019-03-21 22:35:37,282: Load trajectories from k-cl/windows/a002...\n",
      "2019-03-21 22:35:37,327: Loaded 100 frames...\n",
      "2019-03-21 22:35:37,366: Load trajectories from k-cl/windows/a003...\n",
      "2019-03-21 22:35:37,420: Loaded 100 frames...\n",
      "2019-03-21 22:35:37,439: Load trajectories from k-cl/windows/p000...\n",
      "2019-03-21 22:35:37,490: Loaded 100 frames...\n",
      "2019-03-21 22:35:37,519: Load trajectories from k-cl/windows/p000...\n",
      "2019-03-21 22:35:37,563: Loaded 100 frames...\n",
      "2019-03-21 22:35:37,596: Load trajectories from k-cl/windows/p001...\n",
      "2019-03-21 22:35:37,638: Loaded 100 frames...\n",
      "2019-03-21 22:35:37,668: Load trajectories from k-cl/windows/p002...\n",
      "2019-03-21 22:35:37,708: Loaded 100 frames...\n",
      "2019-03-21 22:35:37,729: Load trajectories from k-cl/windows/p003...\n",
      "2019-03-21 22:35:37,774: Loaded 100 frames...\n",
      "2019-03-21 22:35:37,818: Load trajectories from k-cl/windows/p004...\n",
      "2019-03-21 22:35:37,865: Loaded 100 frames...\n",
      "2019-03-21 22:35:37,893: Load trajectories from k-cl/windows/p005...\n",
      "2019-03-21 22:35:37,933: Loaded 100 frames...\n",
      "2019-03-21 22:35:37,965: Load trajectories from k-cl/windows/p006...\n",
      "2019-03-21 22:35:38,024: Loaded 100 frames...\n",
      "2019-03-21 22:35:38,047: Load trajectories from k-cl/windows/p007...\n",
      "2019-03-21 22:35:38,103: Loaded 100 frames...\n",
      "2019-03-21 22:35:38,130: Load trajectories from k-cl/windows/p008...\n",
      "2019-03-21 22:35:38,190: Loaded 100 frames...\n",
      "2019-03-21 22:35:38,219: Load trajectories from k-cl/windows/p009...\n",
      "2019-03-21 22:35:38,289: Loaded 100 frames...\n"
     ]
    }
   ],
   "source": [
    "free_energy = analysis.fe_calc()\n",
    "free_energy.prmtop = \"k-cl-sol.prmtop\"\n",
    "free_energy.trajectory = \"production*.nc\"\n",
    "free_energy.path = windows_directory\n",
    "free_energy.restraint_list = [restraint]\n",
    "free_energy.collect_data()\n",
    "free_energy.methods = [\"ti-block\"]\n",
    "free_energy.ti_matrix = \"diagonal\"\n",
    "free_energy.bootcycles = 100"
   ]
  },
  {
   "cell_type": "markdown",
   "metadata": {},
   "source": [
    "## Run the analysis and save the results"
   ]
  },
  {
   "cell_type": "code",
   "execution_count": 38,
   "metadata": {},
   "outputs": [
    {
     "name": "stderr",
     "output_type": "stream",
     "text": [
      "2019-03-21 22:35:41,781: Running ti-block analysis on attach phase ...\n",
      "2019-03-21 22:35:41,808: Running bootstrap calculations\n",
      "2019-03-21 22:35:41,810: Working on fraction ... 1.0\n",
      "2019-03-21 22:35:41,889: Running ti-block analysis on pull phase ...\n",
      "2019-03-21 22:35:41,928: Running bootstrap calculations\n",
      "2019-03-21 22:35:41,930: Working on fraction ... 1.0\n",
      "2019-03-21 22:35:42,022: Skipping free energy calculation for release\n"
     ]
    }
   ],
   "source": [
    "free_energy.compute_free_energy()\n",
    "free_energy.compute_ref_state_work([restraint, None, None, None, None, None])"
   ]
  },
  {
   "cell_type": "code",
   "execution_count": 39,
   "metadata": {},
   "outputs": [
    {
     "name": "stdout",
     "output_type": "stream",
     "text": [
      "The binding affinity for K+ (+1.3) and Cl- (-1.3) = 29.55 +/- 44.90 kcal/mol\n"
     ]
    }
   ],
   "source": [
    "binding_affinity = -1 * (\n",
    "    free_energy.results[\"attach\"][\"ti-block\"][\"fe\"]\n",
    "    + free_energy.results[\"pull\"][\"ti-block\"][\"fe\"]\n",
    "    + free_energy.results[\"ref_state_work\"]\n",
    ")\n",
    "\n",
    "sem = np.sqrt(\n",
    "    free_energy.results[\"attach\"][\"ti-block\"][\"sem\"] ** 2\n",
    "    + free_energy.results[\"pull\"][\"ti-block\"][\"sem\"] ** 2\n",
    ")\n",
    "\n",
    "print(\n",
    "    f\"The binding affinity for K+ (+1.3) and Cl- (-1.3) = {binding_affinity:0.2f} +/- {sem:0.2f} kcal/mol\"\n",
    ")"
   ]
  },
  {
   "cell_type": "code",
   "execution_count": null,
   "metadata": {},
   "outputs": [],
   "source": []
  }
 ],
 "metadata": {
  "anaconda-cloud": {},
  "kernelspec": {
   "display_name": "Python 3",
   "language": "python",
   "name": "python3"
  },
  "language_info": {
   "codemirror_mode": {
    "name": "ipython",
    "version": 3
   },
   "file_extension": ".py",
   "mimetype": "text/x-python",
   "name": "python",
   "nbconvert_exporter": "python",
   "pygments_lexer": "ipython3",
   "version": "3.6.7"
  }
 },
 "nbformat": 4,
 "nbformat_minor": 2
}
