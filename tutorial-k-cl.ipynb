{
 "cells": [
  {
   "cell_type": "markdown",
   "metadata": {},
   "source": [
    "# A quick binding free energy calculation of K$^+$ and Cl$^-$ using pAPRika\n",
    "\n",
    "David Slochower, March 27, 2019\n",
    "\n",
    "**This notebook will run `sander` calculations in real-time on mybinder.org. This will take less than five minutes.**"
   ]
  },
  {
   "cell_type": "markdown",
   "metadata": {},
   "source": [
    "## Preamble\n",
    "\n",
    "- I intend this code to be run on [Binder](https://mybinder.org/), which should host a Docker image of [`pAPRika`](https://github.com/slochower/pAPRika), the initial coordinates for this calculation, and results from a reference calculation.\n",
    "\n",
    "- This is brief run through of how a calculation might be done, if you are really in a really really in a hurry. These are not *best practices*!\n",
    "\n",
    "I have omitted a description of the theory behind the attach-pull-release method. For further information, please see the following references: \n",
    "\n",
    "1. A. T. Fenley, N. M. Henriksen, H. S. Muddana, M. K. Gilson, Bridging Calorimetry and Simulation through Precise Calculations of Cucurbituril-Guest Binding Enthalpies. J. Chem. Theory Comput. 10, 4069–4078 (2014).\n",
    "\n",
    "2. N. M. Henriksen, M. K. Gilson, Evaluating Force Field Performance in Thermodynamic Calculations of Cyclodextrin Host-Guest Binding: Water Models, Partial Charges, and Host Force Field Parameters. J. Chem. Theory Comput. 13, 4253–4269 (2017).\n",
    "\n",
    "3. J. Yin, A. T. Fenley, N. M. Henriksen, M. K. Gilson, Toward Improved Force-Field Accuracy through Sensitivity Analysis of Host-Guest Binding Thermodynamics. J. Phys. Chem. B. 119, 10145–10155 (2015).\n",
    "\n",
    "4. N. M. Henriksen, A. T. Fenley, M. K. Gilson, Computational Calorimetry: High-Precision Calculation of Host-Guest Binding Thermodynamics. J. Chem. Theory Comput. 11, 4377–4394 (2015).\n",
    "\n",
    "Especially reference 4, which has additional details about the K$^+$-Cl$^-$ calculation.\n",
    "\n",
    "Okay, let's see how to calculate the binding free energy between two monovalent ions in a water box."
   ]
  },
  {
   "cell_type": "code",
   "execution_count": 1,
   "metadata": {
    "ExecuteTime": {
     "end_time": "2019-02-19T19:41:31.793751Z",
     "start_time": "2019-02-19T19:41:31.766398Z"
    }
   },
   "outputs": [],
   "source": [
    "import os\n",
    "import re\n",
    "import shutil\n",
    "import json\n",
    "\n",
    "import numpy as np\n",
    "import parmed as pmd\n",
    "\n",
    "from paprika import align\n",
    "from paprika import amber\n",
    "from paprika import analysis\n",
    "from paprika import io\n",
    "from paprika import log\n",
    "from paprika import restraints\n",
    "from paprika import tleap"
   ]
  },
  {
   "cell_type": "code",
   "execution_count": 2,
   "metadata": {},
   "outputs": [],
   "source": [
    "import glob\n",
    "import matplotlib.pyplot as plt\n",
    "import pytraj as pt\n",
    "from pmf import plot_pmf\n",
    "\n",
    "%matplotlib inline"
   ]
  },
  {
   "cell_type": "code",
   "execution_count": 3,
   "metadata": {},
   "outputs": [],
   "source": [
    "log.config_root_logger(verbose=False)"
   ]
  },
  {
   "cell_type": "markdown",
   "metadata": {},
   "source": [
    "# Specify the directory containing the initial coordinates\n",
    "\n",
    "In this case, we have a simple `pdb` file with two atoms placed 2.65 Å apart. In other cases, we might need `mol2` or `frcmod` files to begin the calculation."
   ]
  },
  {
   "cell_type": "code",
   "execution_count": 4,
   "metadata": {
    "ExecuteTime": {
     "end_time": "2019-02-19T19:39:41.142698Z",
     "start_time": "2019-02-19T19:39:41.138350Z"
    }
   },
   "outputs": [],
   "source": [
    "k_cl_pdb = os.path.abspath(os.path.join(\"data\", \"k-cl.pdb\"))"
   ]
  },
  {
   "cell_type": "markdown",
   "metadata": {},
   "source": [
    "# Setup the calculation by building input files and umbrella sampling windows\n",
    "\n",
    "## Build the vacuum `prmtop` and `inpcrd` files"
   ]
  },
  {
   "cell_type": "code",
   "execution_count": 5,
   "metadata": {
    "ExecuteTime": {
     "end_time": "2019-02-19T19:41:54.354236Z",
     "start_time": "2019-02-19T19:41:54.168055Z"
    }
   },
   "outputs": [],
   "source": [
    "sys = tleap.System()\n",
    "sys.template_lines = [\n",
    "    \"source leaprc.water.tip3p\",\n",
    "    \"loadamberparams frcmod.ionsjc_tip3p\",\n",
    "    f\"model = loadpdb {k_cl_pdb}\",\n",
    "]\n",
    "\n",
    "sys.output_path = \"k-cl\"\n",
    "sys.output_prefix = \"k-cl\"\n",
    "sys.pbc_type = None\n",
    "sys.target_waters = None\n",
    "sys.neutralize = False\n",
    "sys.build()"
   ]
  },
  {
   "cell_type": "markdown",
   "metadata": {
    "ExecuteTime": {
     "end_time": "2019-02-19T19:35:41.478380Z",
     "start_time": "2019-02-19T19:35:41.142816Z"
    }
   },
   "source": [
    "## Specify the number of windows for the umbrella sampling\n",
    "\n",
    "This will setup 5 attach windows and 10 pull windows.\n",
    "\n",
    "The `attach_fractions` specifies $\\lambda$ values for the force constant. So $\\lambda = 0$ means the restraints are off and $\\lambda = 1$ means the restraints are at full blast (i.e., they have achieved the maximum force constant configured).\n",
    "\n",
    "The `pull_distances` are evenly spaced from 2.65 Å to 18.65 Å. Fewer windows means the force constant for the pulling phase should be relatively weak so that there is overlap between $\\lambda$ windows.\n",
    "\n",
    "There is no explicit release phase in this calculation but there is an analytical release phase so that we end up with $\\Delta G$ relative to standard state."
   ]
  },
  {
   "cell_type": "code",
   "execution_count": 6,
   "metadata": {
    "ExecuteTime": {
     "end_time": "2019-02-19T19:42:01.825732Z",
     "start_time": "2019-02-19T19:42:01.815923Z"
    }
   },
   "outputs": [],
   "source": [
    "attach_fractions = np.linspace(0, 1.0, 5)\n",
    "initial_distance = 2.65\n",
    "pull_distances = np.linspace(0 + initial_distance, 16.0 + initial_distance, 10)"
   ]
  },
  {
   "cell_type": "markdown",
   "metadata": {},
   "source": [
    "## Add a single distance restraint between K+ and Cl-"
   ]
  },
  {
   "cell_type": "code",
   "execution_count": 7,
   "metadata": {
    "ExecuteTime": {
     "end_time": "2019-02-19T19:42:02.333845Z",
     "start_time": "2019-02-19T19:42:02.317742Z"
    },
    "scrolled": true
   },
   "outputs": [
    {
     "name": "stderr",
     "output_type": "stream",
     "text": [
      "2019-03-28 08:28:13,906: Loaded /Users/dslochower/Documents/projects/paprika-kcl/data/k-cl.pdb...\n",
      "2019-03-28 08:28:13,906: Loaded /Users/dslochower/Documents/projects/paprika-kcl/data/k-cl.pdb...\n",
      "2019-03-28 08:28:13,995: Loaded /Users/dslochower/Documents/projects/paprika-kcl/data/k-cl.pdb...\n",
      "2019-03-28 08:28:13,995: Loaded /Users/dslochower/Documents/projects/paprika-kcl/data/k-cl.pdb...\n"
     ]
    }
   ],
   "source": [
    "restraint = restraints.DAT_restraint()\n",
    "restraint.continuous_apr = True\n",
    "restraint.amber_index = True\n",
    "restraint.topology = k_cl_pdb\n",
    "restraint.mask1 = \"@K+\"\n",
    "restraint.mask2 = \"@Cl-\"\n",
    "\n",
    "restraint.attach[\"target\"] = initial_distance\n",
    "restraint.attach[\"fraction_list\"] = attach_fractions\n",
    "restraint.attach[\"fc_final\"] = 5.0\n",
    "\n",
    "restraint.pull[\"fc\"] = restraint.attach[\"fc_final\"]\n",
    "restraint.pull[\"target_list\"] = pull_distances\n",
    "\n",
    "restraint.initialize()"
   ]
  },
  {
   "cell_type": "markdown",
   "metadata": {},
   "source": [
    "## Create the directories for each window and write the restraint input file\n",
    "\n",
    "This makes it easy to run each window in parallel as a separate simulation. But since we are in the cloud, we will end up running in serial."
   ]
  },
  {
   "cell_type": "code",
   "execution_count": 8,
   "metadata": {},
   "outputs": [],
   "source": [
    "windows_directory = os.path.join(\"k-cl\", \"windows\")"
   ]
  },
  {
   "cell_type": "code",
   "execution_count": 9,
   "metadata": {
    "ExecuteTime": {
     "end_time": "2019-02-19T19:42:04.734063Z",
     "start_time": "2019-02-19T19:42:04.382757Z"
    }
   },
   "outputs": [
    {
     "name": "stderr",
     "output_type": "stream",
     "text": [
      "2019-03-28 08:28:14,036: Restraints appear to be consistent\n",
      "2019-03-28 08:28:14,036: Restraints appear to be consistent\n"
     ]
    }
   ],
   "source": [
    "window_list = restraints.create_window_list([restraint])\n",
    "for window in window_list:\n",
    "    if os.path.exists(os.path.join(windows_directory, window)):\n",
    "        continue\n",
    "    else:\n",
    "        os.makedirs(os.path.join(windows_directory, window))"
   ]
  },
  {
   "cell_type": "code",
   "execution_count": 10,
   "metadata": {
    "ExecuteTime": {
     "end_time": "2019-02-19T19:42:04.734063Z",
     "start_time": "2019-02-19T19:42:04.382757Z"
    }
   },
   "outputs": [],
   "source": [
    "for window in window_list:\n",
    "    with open(os.path.join(windows_directory, window, \"disang.rest\"), \"a\") as file:\n",
    "        string = restraints.amber_restraint_line(restraint, window)\n",
    "        if string is not None:\n",
    "            file.write(string)"
   ]
  },
  {
   "cell_type": "markdown",
   "metadata": {},
   "source": [
    "## Set the initial distance of the ions in each window"
   ]
  },
  {
   "cell_type": "code",
   "execution_count": 11,
   "metadata": {
    "ExecuteTime": {
     "end_time": "2019-02-19T19:42:04.734063Z",
     "start_time": "2019-02-19T19:42:04.382757Z"
    }
   },
   "outputs": [
    {
     "name": "stdout",
     "output_type": "stream",
     "text": [
      "In window p000 we will translate the guest 0.0 Angstroms.\n",
      "In window p001 we will translate the guest 1.8 Angstroms.\n",
      "In window p002 we will translate the guest 3.6 Angstroms.\n",
      "In window p003 we will translate the guest 5.3 Angstroms.\n",
      "In window p004 we will translate the guest 7.1 Angstroms.\n",
      "In window p005 we will translate the guest 8.9 Angstroms.\n",
      "In window p006 we will translate the guest 10.7 Angstroms.\n",
      "In window p007 we will translate the guest 12.4 Angstroms.\n",
      "In window p008 we will translate the guest 14.2 Angstroms.\n",
      "In window p009 we will translate the guest 16.0 Angstroms.\n"
     ]
    }
   ],
   "source": [
    "for window in window_list:\n",
    "    if window[0] == \"a\":\n",
    "        structure = pmd.load_file(os.path.join(\"k-cl\", \"k-cl.prmtop\"), \n",
    "                                  os.path.join(\"k-cl\", \"k-cl.rst7\"), structure=True)\n",
    "        for atom in structure.atoms:\n",
    "            if atom.name == \"Cl-\":\n",
    "                atom.xz = 2.65\n",
    "        structure.save(os.path.join(windows_directory, window, \"k-cl.prmtop\"), overwrite=True)\n",
    "        structure.save(os.path.join(windows_directory, window, \"k-cl.rst7\"), overwrite=True)\n",
    "        structure.save(os.path.join(windows_directory, window, \"k-cl.pdb\"), overwrite=True)\n",
    "\n",
    "\n",
    "    elif window[0] == \"p\":\n",
    "        structure = pmd.load_file(os.path.join(\"k-cl\", \"k-cl.prmtop\"), \n",
    "                                  os.path.join(\"k-cl\", \"k-cl.rst7\"), structure=True)\n",
    "        target_difference = (\n",
    "            restraint.phase[\"pull\"][\"targets\"][int(window[1:])]\n",
    "            - restraint.phase[\"pull\"][\"targets\"][0]\n",
    "        )\n",
    "        print(\n",
    "            f\"In window {window} we will translate the guest {target_difference:0.1f} Angstroms.\"\n",
    "        )\n",
    "        for atom in structure.atoms:\n",
    "            if atom.name == \"Cl-\":\n",
    "                atom.xz += target_difference\n",
    "        structure.save(os.path.join(windows_directory, window, \"k-cl.prmtop\"), overwrite=True)\n",
    "        structure.save(os.path.join(windows_directory, window, \"k-cl.rst7\"), overwrite=True)\n",
    "        structure.save(os.path.join(windows_directory, window, \"k-cl.pdb\"), overwrite=True)\n"
   ]
  },
  {
   "cell_type": "markdown",
   "metadata": {},
   "source": [
    "## Solvate the structure in each window to the same number of waters"
   ]
  },
  {
   "cell_type": "code",
   "execution_count": 12,
   "metadata": {
    "ExecuteTime": {
     "end_time": "2019-02-19T19:46:31.525642Z",
     "start_time": "2019-02-19T19:43:05.990956Z"
    }
   },
   "outputs": [
    {
     "name": "stdout",
     "output_type": "stream",
     "text": [
      "Solvating window a000...\n",
      "Skipping...\n",
      "Solvating window a001...\n",
      "Skipping...\n",
      "Solvating window a002...\n",
      "Skipping...\n",
      "Solvating window a003...\n",
      "Skipping...\n",
      "Solvating window p000...\n",
      "Skipping...\n",
      "Solvating window p001...\n",
      "Skipping...\n",
      "Solvating window p002...\n",
      "Skipping...\n",
      "Solvating window p003...\n",
      "Skipping...\n",
      "Solvating window p004...\n",
      "Skipping...\n",
      "Solvating window p005...\n",
      "Skipping...\n",
      "Solvating window p006...\n",
      "Skipping...\n",
      "Solvating window p007...\n",
      "Skipping...\n",
      "Solvating window p008...\n",
      "Skipping...\n",
      "Solvating window p009...\n",
      "Skipping...\n"
     ]
    }
   ],
   "source": [
    "for window in window_list:\n",
    "    print(f\"Solvating window {window}...\")\n",
    "\n",
    "    if os.path.exists(os.path.join(windows_directory, window, \"k-cl-sol.prmtop\")):\n",
    "        print(\"Skipping...\")\n",
    "        continue\n",
    "\n",
    "\n",
    "    structure = pmd.load_file(\n",
    "        os.path.join(windows_directory, window, \"k-cl.prmtop\"),\n",
    "        os.path.join(windows_directory, window, \"k-cl.rst7\"),\n",
    "        structure=True,\n",
    "    )\n",
    "\n",
    "    system = tleap.System()\n",
    "    system.output_path = os.path.join(windows_directory, window)\n",
    "    system.output_prefix = \"k-cl-sol\"\n",
    "\n",
    "    system.target_waters = 2000\n",
    "    system.neutralize = False\n",
    "    system.template_lines = [\"source leaprc.water.tip3p\", \"model = loadpdb k-cl.pdb\"]\n",
    "    system.build()"
   ]
  },
  {
   "cell_type": "markdown",
   "metadata": {},
   "source": [
    "## Tweak some parameters, like changing the charge of K$^+$ to 1.3 and Cl$^-$ to -1.3\n",
    "\n",
    "Because K$^+$ and Cl$^-$ don't stick very tightly, let's increase their electrostatic attraction. This, again, is following reference [4] at the top of the page."
   ]
  },
  {
   "cell_type": "code",
   "execution_count": 13,
   "metadata": {
    "ExecuteTime": {
     "end_time": "2019-02-19T19:42:35.566455Z",
     "start_time": "2019-02-19T19:42:35.251649Z"
    }
   },
   "outputs": [],
   "source": [
    "for window in window_list:\n",
    "    structure = pmd.load_file(\n",
    "        os.path.join(windows_directory, window, \"k-cl-sol.prmtop\"),\n",
    "        os.path.join(windows_directory, window, \"k-cl-sol.rst7\"),\n",
    "        structure=True,\n",
    "    )\n",
    "    for atom in structure.atoms:\n",
    "        if atom.name == \"Cl-\":\n",
    "            atom.charge = -1.3\n",
    "        elif atom.name == \"K+\":\n",
    "            atom.charge = 1.3\n",
    "            \n",
    "    structure.save(os.path.join(windows_directory, window, \"k-cl-sol.prmtop\"), overwrite=True)\n",
    "    structure.save(os.path.join(windows_directory, window, \"k-cl-sol.rst7\"), overwrite=True)"
   ]
  },
  {
   "cell_type": "markdown",
   "metadata": {},
   "source": [
    "# Run the calculation\n",
    "\n",
    "Normalize we'd minimize and thermalize and equilibrate, but I'm skipping all that right now.\n",
    "\n",
    "We have a few helper functions -- like `_config_pbc_min()` and `_config_pbc_md()` -- that help setup some smart defaults for AMBER. The simulations can either be run directly, as indicated below, with `simulation.run()` or the input file can be written using `_amber_write_input_file()` and then wrapped using a cluster script (like PBS or whatever).\n",
    "\n",
    "Since we are running on the cloud, we'll just do things in serial."
   ]
  },
  {
   "cell_type": "code",
   "execution_count": 14,
   "metadata": {
    "ExecuteTime": {
     "start_time": "2019-02-19T19:47:47.281Z"
    }
   },
   "outputs": [
    {
     "name": "stderr",
     "output_type": "stream",
     "text": [
      "2019-03-28 08:28:28,139: Running MD at k-cl/windows/a000\n",
      "2019-03-28 08:28:28,139: Running MD at k-cl/windows/a000\n"
     ]
    },
    {
     "name": "stdout",
     "output_type": "stream",
     "text": [
      "Running production in window a000...\n"
     ]
    },
    {
     "name": "stderr",
     "output_type": "stream",
     "text": [
      "2019-03-28 08:28:36,901: MD completed ...\n",
      "2019-03-28 08:28:36,901: MD completed ...\n",
      "2019-03-28 08:28:36,904: Running MD at k-cl/windows/a001\n",
      "2019-03-28 08:28:36,904: Running MD at k-cl/windows/a001\n"
     ]
    },
    {
     "name": "stdout",
     "output_type": "stream",
     "text": [
      "Running production in window a001...\n"
     ]
    },
    {
     "name": "stderr",
     "output_type": "stream",
     "text": [
      "2019-03-28 08:28:45,430: MD completed ...\n",
      "2019-03-28 08:28:45,430: MD completed ...\n",
      "2019-03-28 08:28:45,433: Running MD at k-cl/windows/a002\n",
      "2019-03-28 08:28:45,433: Running MD at k-cl/windows/a002\n"
     ]
    },
    {
     "name": "stdout",
     "output_type": "stream",
     "text": [
      "Running production in window a002...\n"
     ]
    },
    {
     "name": "stderr",
     "output_type": "stream",
     "text": [
      "2019-03-28 08:28:53,925: MD completed ...\n",
      "2019-03-28 08:28:53,925: MD completed ...\n",
      "2019-03-28 08:28:53,929: Running MD at k-cl/windows/a003\n",
      "2019-03-28 08:28:53,929: Running MD at k-cl/windows/a003\n"
     ]
    },
    {
     "name": "stdout",
     "output_type": "stream",
     "text": [
      "Running production in window a003...\n"
     ]
    },
    {
     "name": "stderr",
     "output_type": "stream",
     "text": [
      "2019-03-28 08:29:02,388: MD completed ...\n",
      "2019-03-28 08:29:02,388: MD completed ...\n",
      "2019-03-28 08:29:02,391: Running MD at k-cl/windows/p000\n",
      "2019-03-28 08:29:02,391: Running MD at k-cl/windows/p000\n"
     ]
    },
    {
     "name": "stdout",
     "output_type": "stream",
     "text": [
      "Running production in window p000...\n"
     ]
    },
    {
     "name": "stderr",
     "output_type": "stream",
     "text": [
      "2019-03-28 08:29:11,128: MD completed ...\n",
      "2019-03-28 08:29:11,128: MD completed ...\n",
      "2019-03-28 08:29:11,133: Running MD at k-cl/windows/p001\n",
      "2019-03-28 08:29:11,133: Running MD at k-cl/windows/p001\n"
     ]
    },
    {
     "name": "stdout",
     "output_type": "stream",
     "text": [
      "Running production in window p001...\n"
     ]
    },
    {
     "name": "stderr",
     "output_type": "stream",
     "text": [
      "2019-03-28 08:29:19,828: MD completed ...\n",
      "2019-03-28 08:29:19,828: MD completed ...\n",
      "2019-03-28 08:29:19,833: Running MD at k-cl/windows/p002\n",
      "2019-03-28 08:29:19,833: Running MD at k-cl/windows/p002\n"
     ]
    },
    {
     "name": "stdout",
     "output_type": "stream",
     "text": [
      "Running production in window p002...\n"
     ]
    },
    {
     "name": "stderr",
     "output_type": "stream",
     "text": [
      "2019-03-28 08:29:29,680: MD completed ...\n",
      "2019-03-28 08:29:29,680: MD completed ...\n",
      "2019-03-28 08:29:29,684: Running MD at k-cl/windows/p003\n",
      "2019-03-28 08:29:29,684: Running MD at k-cl/windows/p003\n"
     ]
    },
    {
     "name": "stdout",
     "output_type": "stream",
     "text": [
      "Running production in window p003...\n"
     ]
    },
    {
     "name": "stderr",
     "output_type": "stream",
     "text": [
      "2019-03-28 08:29:38,844: MD completed ...\n",
      "2019-03-28 08:29:38,844: MD completed ...\n",
      "2019-03-28 08:29:38,849: Running MD at k-cl/windows/p004\n",
      "2019-03-28 08:29:38,849: Running MD at k-cl/windows/p004\n"
     ]
    },
    {
     "name": "stdout",
     "output_type": "stream",
     "text": [
      "Running production in window p004...\n"
     ]
    },
    {
     "name": "stderr",
     "output_type": "stream",
     "text": [
      "2019-03-28 08:29:47,923: MD completed ...\n",
      "2019-03-28 08:29:47,923: MD completed ...\n",
      "2019-03-28 08:29:47,927: Running MD at k-cl/windows/p005\n",
      "2019-03-28 08:29:47,927: Running MD at k-cl/windows/p005\n"
     ]
    },
    {
     "name": "stdout",
     "output_type": "stream",
     "text": [
      "Running production in window p005...\n"
     ]
    },
    {
     "name": "stderr",
     "output_type": "stream",
     "text": [
      "2019-03-28 08:29:56,540: MD completed ...\n",
      "2019-03-28 08:29:56,540: MD completed ...\n",
      "2019-03-28 08:29:56,543: Running MD at k-cl/windows/p006\n",
      "2019-03-28 08:29:56,543: Running MD at k-cl/windows/p006\n"
     ]
    },
    {
     "name": "stdout",
     "output_type": "stream",
     "text": [
      "Running production in window p006...\n"
     ]
    },
    {
     "name": "stderr",
     "output_type": "stream",
     "text": [
      "2019-03-28 08:30:06,365: MD completed ...\n",
      "2019-03-28 08:30:06,365: MD completed ...\n",
      "2019-03-28 08:30:06,376: Running MD at k-cl/windows/p007\n",
      "2019-03-28 08:30:06,376: Running MD at k-cl/windows/p007\n"
     ]
    },
    {
     "name": "stdout",
     "output_type": "stream",
     "text": [
      "Running production in window p007...\n"
     ]
    },
    {
     "name": "stderr",
     "output_type": "stream",
     "text": [
      "2019-03-28 08:30:18,906: MD completed ...\n",
      "2019-03-28 08:30:18,906: MD completed ...\n",
      "2019-03-28 08:30:18,910: Running MD at k-cl/windows/p008\n",
      "2019-03-28 08:30:18,910: Running MD at k-cl/windows/p008\n"
     ]
    },
    {
     "name": "stdout",
     "output_type": "stream",
     "text": [
      "Running production in window p008...\n"
     ]
    },
    {
     "name": "stderr",
     "output_type": "stream",
     "text": [
      "2019-03-28 08:30:28,251: MD completed ...\n",
      "2019-03-28 08:30:28,251: MD completed ...\n",
      "2019-03-28 08:30:28,254: Running MD at k-cl/windows/p009\n",
      "2019-03-28 08:30:28,254: Running MD at k-cl/windows/p009\n"
     ]
    },
    {
     "name": "stdout",
     "output_type": "stream",
     "text": [
      "Running production in window p009...\n"
     ]
    },
    {
     "name": "stderr",
     "output_type": "stream",
     "text": [
      "2019-03-28 08:30:37,056: MD completed ...\n",
      "2019-03-28 08:30:37,056: MD completed ...\n"
     ]
    }
   ],
   "source": [
    "for window in window_list:\n",
    "    simulation = amber.Simulation()\n",
    "    simulation.executable = \"sander\"\n",
    "\n",
    "    simulation.path = os.path.join(windows_directory, window)\n",
    "    simulation.prefix = \"production\"\n",
    "\n",
    "    simulation.inpcrd = \"k-cl-sol.rst7\"\n",
    "    simulation.ref = \"k-cl-sol.rst7\"\n",
    "    simulation.topology = \"k-cl-sol.prmtop\"\n",
    "    simulation.restraint_file = \"disang.rest\"\n",
    "\n",
    "    simulation.config_pbc_md()\n",
    "    simulation.cntrl[\"nstlim\"] = 200\n",
    "    simulation.cntrl[\"ntwx\"] = 1\n",
    "\n",
    "    print(f\"Running production in window {window}...\")\n",
    "    simulation.run(overwrite=True)\n",
    " "
   ]
  },
  {
   "cell_type": "markdown",
   "metadata": {},
   "source": [
    "# Analyze the results of the simulation!"
   ]
  },
  {
   "cell_type": "markdown",
   "metadata": {},
   "source": [
    "## Setup the analysis\n",
    "\n",
    "The analysis needs to know about:\n",
    "\n",
    "- The parameter file that was used for the molecules,\n",
    "- The restraints (object or `json` file)\n",
    "- The simulation path,\n",
    "- The trajectories, and\n",
    "- The method to do the analysis (e.g., thermodynamic integration for the free energy with blocking analysis for the SEM)"
   ]
  },
  {
   "cell_type": "code",
   "execution_count": 15,
   "metadata": {
    "ExecuteTime": {
     "start_time": "2019-02-19T19:50:14.029Z"
    }
   },
   "outputs": [],
   "source": [
    "free_energy = analysis.fe_calc()\n",
    "free_energy.prmtop = \"k-cl-sol.prmtop\"\n",
    "free_energy.trajectory = \"production*.nc\"\n",
    "free_energy.path = windows_directory\n",
    "free_energy.restraint_list = [restraint]\n",
    "free_energy.collect_data()\n",
    "free_energy.methods = [\"ti-block\"]\n",
    "free_energy.ti_matrix = \"diagonal\"\n",
    "free_energy.bootcycles = 100"
   ]
  },
  {
   "cell_type": "markdown",
   "metadata": {},
   "source": [
    "## Run the analysis and save the results"
   ]
  },
  {
   "cell_type": "code",
   "execution_count": 16,
   "metadata": {},
   "outputs": [],
   "source": [
    "free_energy.compute_free_energy()\n",
    "free_energy.compute_ref_state_work([restraint, None, None, None, None, None])"
   ]
  },
  {
   "cell_type": "code",
   "execution_count": 17,
   "metadata": {},
   "outputs": [
    {
     "name": "stdout",
     "output_type": "stream",
     "text": [
      "The binding affinity for K+ (+1.3) and Cl- (-1.3) = 10.12 +/- 17.00 kcal/mol\n"
     ]
    }
   ],
   "source": [
    "binding_affinity = -1 * (\n",
    "    free_energy.results[\"attach\"][\"ti-block\"][\"fe\"]\n",
    "    + free_energy.results[\"pull\"][\"ti-block\"][\"fe\"]\n",
    "    + free_energy.results[\"ref_state_work\"]\n",
    ")\n",
    "\n",
    "sem = np.sqrt(\n",
    "    free_energy.results[\"attach\"][\"ti-block\"][\"sem\"] ** 2\n",
    "    + free_energy.results[\"pull\"][\"ti-block\"][\"sem\"] ** 2\n",
    ")\n",
    "\n",
    "print(\n",
    "    f\"The binding affinity for K+ (+1.3) and Cl- (-1.3) = {binding_affinity:0.2f} +/- {sem:0.2f} kcal/mol\"\n",
    ")"
   ]
  },
  {
   "cell_type": "markdown",
   "metadata": {},
   "source": [
    "## Want to look at the overlap of the distance histograms?"
   ]
  },
  {
   "cell_type": "code",
   "execution_count": 18,
   "metadata": {},
   "outputs": [
    {
     "data": {
      "image/png": "[encoded data removed]",
      "text/plain": [
       "<Figure size 864x432 with 1 Axes>"
      ]
     },
     "metadata": {
      "needs_background": "light"
     },
     "output_type": "display_data"
    }
   ],
   "source": [
    "fig, ax = plt.subplots(1, figsize=(6 * 2, 6))\n",
    "for window in sorted(glob.glob(windows_directory + \"/p*\")):\n",
    "    trajectory = pt.iterload(os.path.join(window, free_energy.trajectory),\n",
    "                             os.path.join(window, free_energy.prmtop))\n",
    "    distance = pt.distance(trajectory, \" \".join([restraint.mask1, restraint.mask2]))\n",
    "    hist, bin_edges = np.histogram(distance, range=(2, 20), bins=180)\n",
    "    bin_centers = 0.5 * (bin_edges[1:] + bin_edges[:-1])\n",
    "    ax.plot(bin_centers, hist)\n",
    "    ax.set_ylabel(\"Count\")\n",
    "    ax.set_xlabel(\"Distance (Angstroms)\")\n",
    "    ax.set_title(\"Histogram of distances for pulling windows\", loc=\"left\")"
   ]
  },
  {
   "cell_type": "code",
   "execution_count": 19,
   "metadata": {},
   "outputs": [
    {
     "data": {
      "image/png": "[encoded data removed]",
      "text/plain": [
       "<Figure size 518.4x432 with 1 Axes>"
      ]
     },
     "metadata": {
      "needs_background": "light"
     },
     "output_type": "display_data"
    }
   ],
   "source": [
    "plot_pmf(attach=free_energy.results[\"attach\"][\"ti-block\"][\"fe_matrix\"][0],\n",
    "         pull=free_energy.results[\"pull\"][\"ti-block\"][\"fe_matrix\"][0],\n",
    "         release=None,\n",
    "         release_to_std=free_energy.results[\"ref_state_work\"],\n",
    "         attach_sem=free_energy.results[\"attach\"][\"ti-block\"][\"sem_matrix\"][0],\n",
    "         pull_sem=free_energy.results[\"pull\"][\"ti-block\"][\"sem_matrix\"][0],\n",
    "         pull_initial=2.65,\n",
    "         pull_final=18.65)"
   ]
  },
  {
   "cell_type": "markdown",
   "metadata": {},
   "source": [
    "## But what would a more realistic calculation look like?\n",
    "\n",
    "This calculation took about 100x as long to run and is overkill, but is a reliable test of the method."
   ]
  },
  {
   "cell_type": "code",
   "execution_count": 20,
   "metadata": {},
   "outputs": [],
   "source": [
    "with open(\"amber-gold-standard.json\", \"r\") as f:\n",
    "        json_data = f.read()\n",
    "gold_standard = json.loads(json_data, object_hook=io.json_numpy_obj_hook)"
   ]
  },
  {
   "cell_type": "code",
   "execution_count": 21,
   "metadata": {},
   "outputs": [
    {
     "name": "stdout",
     "output_type": "stream",
     "text": [
      "The binding affinity for K+ (+1.3) and Cl- (-1.3) = -1.84 +/- 0.10 kcal/mol\n"
     ]
    }
   ],
   "source": [
    "binding_affinity = -1 * (\n",
    "    gold_standard[\"attach\"][\"ti-block\"][\"fe\"]\n",
    "    + gold_standard[\"pull\"][\"ti-block\"][\"fe\"]\n",
    "    + gold_standard[\"ref_state_work\"]\n",
    ")\n",
    "\n",
    "sem = np.sqrt(\n",
    "    gold_standard[\"attach\"][\"ti-block\"][\"sem\"] ** 2\n",
    "    + gold_standard[\"pull\"][\"ti-block\"][\"sem\"] ** 2\n",
    ")\n",
    "\n",
    "print(\n",
    "    f\"The binding affinity for K+ (+1.3) and Cl- (-1.3) = {binding_affinity:0.2f} +/- {sem:0.2f} kcal/mol\"\n",
    ")"
   ]
  },
  {
   "cell_type": "code",
   "execution_count": 22,
   "metadata": {},
   "outputs": [
    {
     "data": {
      "image/png": "[encoded data removed]",
      "text/plain": [
       "<Figure size 518.4x432 with 1 Axes>"
      ]
     },
     "metadata": {
      "needs_background": "light"
     },
     "output_type": "display_data"
    }
   ],
   "source": [
    "plot_pmf(attach=gold_standard[\"attach\"][\"ti-block\"][\"fe_matrix\"][0],\n",
    "         pull=gold_standard[\"pull\"][\"ti-block\"][\"fe_matrix\"][0],\n",
    "         release=None,\n",
    "         release_to_std=gold_standard[\"ref_state_work\"],\n",
    "         attach_sem=gold_standard[\"attach\"][\"ti-block\"][\"sem_matrix\"][0],\n",
    "         pull_sem=gold_standard[\"pull\"][\"ti-block\"][\"sem_matrix\"][0],\n",
    "         pull_initial=2.65,\n",
    "         pull_final=18.65)"
   ]
  },
  {
   "cell_type": "code",
   "execution_count": null,
   "metadata": {},
   "outputs": [],
   "source": []
  }
 ],
 "metadata": {
  "anaconda-cloud": {},
  "kernelspec": {
   "display_name": "Python 3",
   "language": "python",
   "name": "python3"
  },
  "language_info": {
   "codemirror_mode": {
    "name": "ipython",
    "version": 3
   },
   "file_extension": ".py",
   "mimetype": "text/x-python",
   "name": "python",
   "nbconvert_exporter": "python",
   "pygments_lexer": "ipython3",
   "version": "3.6.7"
  }
 },
 "nbformat": 4,
 "nbformat_minor": 2
}
